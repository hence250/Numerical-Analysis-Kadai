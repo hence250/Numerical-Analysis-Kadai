{
 "cells": [
  {
   "cell_type": "markdown",
   "id": "d3b578d8",
   "metadata": {},
   "source": [
    "## 数値解析レポート第12回\n",
    "### 氏名：NOH, HYEONSEO　学籍番号：08B22164\n",
    "ポアソン方程式\n",
    "$$\n",
    "\\frac{\\partial^2T}{\\partial x^2}+\\frac{\\partial^2T}{\\partial y^2} = f(x,y) \\tag{*}\n",
    "$$\n",
    "を，$x, y$方向ともに$\\Delta x=\\Delta y=1$で3分割した時の\n",
    "1. $T_{1,1}, T_{1,2}, T_{2,1}, T_{2,2}$が満たす方程式を求めよ．\n",
    "2. $T_{1,1}, T_{1,2}, T_{2,1}, T_{2,2}$を求めよ．\n",
    "\n",
    "ただし，$f(x,y)$は\n",
    "$$\n",
    "f(x,y) = \\begin{cases}\n",
    "-600　(x=1, y=2)\\\\\n",
    "0　　　(それ以外)\n",
    "\\end{cases}\n",
    "$$\n",
    "とする．境界条件は，\n",
    "$$\n",
    "\\eta_1=0, \\eta_2=0, \\eta_3=0, \\eta_4=100, \\eta_5=200, \\eta_6=200, \\\\\n",
    "\\eta_7=100, \\eta_8=0, \\eta_9=0, \\eta_{10}=0, \\eta_{11}=0, \\eta_{12}=0\n",
    "$$\n",
    "である．"
   ]
  },
  {
   "cell_type": "markdown",
   "id": "e2c464a8",
   "metadata": {},
   "source": [
    "### 1. $T_{1,1},  T_{1,2}, T_{2,1}, T_{2,2}$が満たす方程式を求めよ．\n",
    "ラプラス方程式の場合と同様に求める．\n",
    "温度$T(x,y)$についてTaylor展開すると\n",
    "$$\n",
    "\\begin{align}\n",
    "T(x+\\Delta x,y) &= T(x,y) + \\Delta xT_x(x,y)+\\frac{\\Delta x^2}{2}T_{xx}(x,y) + \\cdots \\tag{1} \\\\ \n",
    "T(x-\\Delta x,y) &= T(x,y) - \\Delta xT_x(x,y)+\\frac{\\Delta x^2}{2}T_{xx}(x,y) + \\cdots \\tag{2} \\\\\n",
    "T(x,y+\\Delta y) &= T(x,y) + \\Delta yT_y(x,y)+\\frac{\\Delta y^2}{2}T_{yy}(x,y) + \\cdots \\tag{3} \\\\ \n",
    "T(x,y-\\Delta y) &= T(x,y) - \\Delta yT_y(x,y)+\\frac{\\Delta y^2}{2}T_{yy}(x,y) + \\cdots \\tag{4} \\\\ \n",
    "\\end{align}\n",
    "$$\n",
    "となる．ただし，\n",
    "$$\n",
    "T_x(x,y) =\\frac{\\partial T}{\\partial x},  T_{xx}(x,y) =\\frac{\\partial^2 T}{\\partial x^2},  \n",
    "T_y(x,y) =\\frac{\\partial T}{\\partial y},  T_{yy}(x,y) =\\frac{\\partial^2 T}{\\partial y^2}\n",
    "$$\n",
    "である．\n",
    "$(1)+(2)$より\n",
    "$$\n",
    "\\frac{\\partial^2 T}{\\partial^2 x} = \\frac{1}{(\\Delta x)^2} \\big( T(x+\\Delta x,y)+T(x-\\Delta x,y)-2T(x,y) \\big) \\tag{5}\n",
    "$$\n",
    "となる．また，$(3)+(4)$より\n",
    "$$\n",
    "\\frac{\\partial^2 T}{\\partial^2 y} = \\frac{1}{(\\Delta y)^2} \\big( T(x,y+\\Delta y)+T(x,y-\\Delta y)-2T(x,y) \\big) \\tag{6}\n",
    "$$\n",
    "となる．式$(5),(6)$をポアソン方程式$(*)$に代入すると\n",
    "$$\n",
    "T(x,y)-pT(x-\\Delta x,y)-pT(x+\\Delta x,y)-qT(x,y-\\Delta y)-qT(x,y+\\Delta y) + \\frac{1}{2}\\bigg(\\frac{1}{(\\Delta x)^2} + \\frac{1}{(\\Delta y)^2}\\bigg)^{-1} f = 0 \\tag{7}\n",
    "$$\n",
    "となる．ただし，\n",
    "$$\n",
    "p = \\frac{1}{2(\\Delta x)^2}\\bigg(\\frac{1}{(\\Delta x)^2} + \\frac{1}{(\\Delta y)^2}\\bigg)^{-1}\n",
    "\\\\\n",
    "q = \\frac{1}{2(\\Delta y)^2}\\bigg(\\frac{1}{(\\Delta x)^2} + \\frac{1}{(\\Delta y)^2}\\bigg)^{-1}\n",
    "$$\n",
    "である．\n",
    "今，$\\Delta x=\\Delta y=1$なので\n",
    "$$\n",
    "p = q = \\frac{1}{4}\n",
    "$$\n",
    "である．よって，\n",
    "$$\n",
    "\\frac{1}{2}\\bigg(\\frac{1}{(\\Delta x)^2} + \\frac{1}{(\\Delta y)^2}\\bigg)^{-1} f=\\frac{1}{4} f = pf\n",
    "$$\n",
    "とかける．\n",
    "式$(7)$の$(x,y)$に$(1,1),(1,2),(2,1),(2,2)$を代入すると\n",
    "$$\n",
    "\\begin{align}\n",
    "T_{1,1} - p\\eta_{12}-pT_{1,2}-q\\eta_2-qT_{2,1}+pf(1,1) &=0 \\\\\n",
    "T_{1,2} - pT_{1,1}-p\\eta_5-q\\eta_3-qT_{2,2}+pf(1,2) &=0 \\\\\n",
    "T_{2,1} - p\\eta_{11}-pT_{2,2}-qT_{1,1} - q\\eta_9+pf(2,1) &=0 \\\\\n",
    "T_{2,2} - pT_{2,1} -p\\eta_6-qT_{1,2}-q\\eta_8+pf(2,2) &=0 \\\\\n",
    "\\end{align}\n",
    "$$\n",
    "が得られる．これを行列表記すると次のようになる．\n",
    "$$\n",
    "\\begin{equation}\n",
    "    \\begin{bmatrix}\n",
    "    1 & -p & -q & 0 \\\\\n",
    "    -p & 1 & 0 & -q \\\\\n",
    "    -q & 0 & 1 & -p \\\\\n",
    "    0 & -q & -p & 1 \\\\\n",
    "    \\end{bmatrix}\n",
    "    \\begin{bmatrix}\n",
    "    T_{1,1} \\\\\n",
    "    T_{1,2} \\\\\n",
    "    T_{2,1} \\\\\n",
    "    T_{2,2} \\\\\n",
    "    \\end{bmatrix}\n",
    "    = \n",
    "    \\begin{bmatrix}\n",
    "    p\\eta_{12}+q\\eta_2-pf(1,1) \\\\\n",
    "    p\\eta_{5}+q\\eta_3-pf(1,2) \\\\\n",
    "    p\\eta_{11}+q\\eta_9-pf(2,1) \\\\\n",
    "    p\\eta_{6}+q\\eta_8-pf(2,2) \\\\\n",
    "    \\end{bmatrix}\n",
    "\\end{equation}\n",
    "$$\n",
    "\n",
    "### 2. $T_{1,1}, T_{1,2}, T_{2,1}, T_{2,2}$を求めよ．\n",
    "上の式と境界条件を用いて$T_{1,1}, T_{1,2}, T_{2,1}, T_{2,2}$を求めていく．"
   ]
  },
  {
   "cell_type": "code",
   "execution_count": 7,
   "id": "aa20c55e",
   "metadata": {},
   "outputs": [],
   "source": [
    "import numpy as np\n",
    "\n",
    "p = 0.25\n",
    "q = 0.25\n",
    "\n",
    "def f(x, y):\n",
    "    if x == 1 and y == 2:\n",
    "        return -600\n",
    "    else:\n",
    "        return 0\n",
    "\n",
    "#境界条件\n",
    "def eta(x,y):\n",
    "    if x == 3:\n",
    "        if y == 0 or y == 3:\n",
    "            return 100\n",
    "        else:\n",
    "            return 200\n",
    "    else:\n",
    "        return 0\n",
    "\n",
    "eta1 = eta(0,0)\n",
    "eta2 = eta(1,0)\n",
    "eta3 = eta(2,0)\n",
    "eta4 = eta(3,0)\n",
    "eta5 = eta(3,1)\n",
    "eta6 = eta(3,2)\n",
    "eta7 = eta(3,3)\n",
    "eta8 = eta(2,3)\n",
    "eta9 = eta(1,3)\n",
    "eta10 = eta(0,3)\n",
    "eta11 = eta(0,2)\n",
    "eta12 = eta(0,1)"
   ]
  },
  {
   "cell_type": "code",
   "execution_count": 8,
   "id": "20aa76a6",
   "metadata": {},
   "outputs": [],
   "source": [
    "A = np.array([[1, -p, -q, 0], \n",
    "              [-p, 1,0, -q],\n",
    "              [-q,0,1,-p],\n",
    "              [0, -q, -p,1]])\n",
    "\n",
    "B = np.array([[p*eta12+q*eta2-p*f(1,1)],\n",
    "              [p*eta5+q*eta3-p*f(1,2)], \n",
    "              [p*eta11+q*eta9-p*f(2,1)],\n",
    "              [p*eta6+q*eta8-p*f(2,2)]])"
   ]
  },
  {
   "cell_type": "markdown",
   "id": "314ea688",
   "metadata": {},
   "source": [
    "この行列をライブラリーを用いて計算すると次のように求まる．"
   ]
  },
  {
   "cell_type": "code",
   "execution_count": 9,
   "id": "b31ca0af",
   "metadata": {
    "scrolled": true
   },
   "outputs": [
    {
     "data": {
      "text/plain": [
       "array([[ 75.],\n",
       "       [250.],\n",
       "       [ 50.],\n",
       "       [125.]])"
      ]
     },
     "execution_count": 9,
     "metadata": {},
     "output_type": "execute_result"
    }
   ],
   "source": [
    "T=np.linalg.solve(A,B)\n",
    "T"
   ]
  },
  {
   "cell_type": "markdown",
   "id": "f66c9902",
   "metadata": {},
   "source": [
    "解をまとめて書くと"
   ]
  },
  {
   "cell_type": "code",
   "execution_count": 10,
   "id": "ef473ca5",
   "metadata": {},
   "outputs": [
    {
     "data": {
      "text/plain": [
       "array([[  0.,   0.,   0., 100.],\n",
       "       [  0.,  75., 250., 200.],\n",
       "       [  0.,  50., 125., 200.],\n",
       "       [  0.,   0.,   0., 100.]])"
      ]
     },
     "execution_count": 10,
     "metadata": {},
     "output_type": "execute_result"
    }
   ],
   "source": [
    "ans = np.array([[eta1, eta2, eta3, eta4], \n",
    "                [eta12, T[0,0], T[1,0], eta5], \n",
    "                [eta11, T[2,0], T[3,0], eta6], \n",
    "                [eta10, eta9, eta8, eta7]])\n",
    "ans"
   ]
  },
  {
   "cell_type": "markdown",
   "id": "0d844c8f",
   "metadata": {},
   "source": [
    "となる．これで$T_{1,1}, T_{1,2}, T_{2,1}, T_{2,2}$が求まった．また，これは次のようにプロットできる．"
   ]
  },
  {
   "cell_type": "code",
   "execution_count": 11,
   "id": "5cf46282",
   "metadata": {},
   "outputs": [
    {
     "data": {
      "image/png": "[encoded data removed]",
      "text/plain": [
       "<Figure size 600x600 with 2 Axes>"
      ]
     },
     "metadata": {},
     "output_type": "display_data"
    }
   ],
   "source": [
    "import matplotlib.pyplot as plt\n",
    "fig = plt.figure(figsize=(6,6))\n",
    "\n",
    "plt.imshow(ans)\n",
    "plt.colorbar () \n",
    "plt.xlabel('X')\n",
    "plt.ylabel('Y')\n",
    "plt.show()"
   ]
  }
 ],
 "metadata": {
  "kernelspec": {
   "display_name": "Python 3 (ipykernel)",
   "language": "python",
   "name": "python3"
  },
  "language_info": {
   "codemirror_mode": {
    "name": "ipython",
    "version": 3
   },
   "file_extension": ".py",
   "mimetype": "text/x-python",
   "name": "python",
   "nbconvert_exporter": "python",
   "pygments_lexer": "ipython3",
   "version": "3.12.4"
  }
 },
 "nbformat": 4,
 "nbformat_minor": 5
}
